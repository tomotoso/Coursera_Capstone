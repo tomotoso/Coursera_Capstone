{
    "cells": [
        {
            "cell_type": "markdown",
            "metadata": {
                "collapsed": true
            },
            "source": "## Capstone Project - Car accident severity (Week 1)"
        },
        {
            "cell_type": "markdown",
            "metadata": {},
            "source": "### Problem description and background"
        },
        {
            "cell_type": "markdown",
            "metadata": {},
            "source": "Car accidents can be very disruptive to everyday life. This dsiruption doesn't affect just those directly involved in the accident. It affects their loved ones, fellow road users, first responders - EMT's, law enforcement and medical professionals to name a few. Knowing in advance the severity of an accident can prompt a road user to select alternative routes in order to avoid being in an accident or being caught up in traffic caused by one; help first responders preprare and respond more quickly and help care providers in the area prepare/schedule emergency rooms physicians and hospital bed spaces in advance.\nThus, a machine learning algorithm that can predict the severity of an accident will be very vaulable to road users, first responders and medical professionals."
        },
        {
            "cell_type": "markdown",
            "metadata": {},
            "source": "### Data description and methodology"
        },
        {
            "cell_type": "markdown",
            "metadata": {},
            "source": "The data used is the Seattle accident. The data contains 37 attributes. Since the contains labeled categorical data, we will use  supervised classifation technique. The dataset is unbalanced thus have to be balanced using. Since the target variable contains binary categorical data,\n\nThe dataset is about past car accident severity in Seattle city. The dataset is labeled, has 37 attributes with both numeric and categorical types of data and contains about 20,000 observations. The target field, called SEVERITYCODE, has 2 possible values that correspond to 1 - prop damage and 2 \u2013 injury. Since the dataset is labeled, and the target variable is categorical with just two classes, a supervised machine learning classification approach will be used to predict the severity of a new or unknown accident case. Thus, this is a binary classification problem.\n\n70% of the accidents' severity are classified as property damage while 30% as injury. This indicates an inbalanced dataset. The dataset will have to be balanced in order to avoid building a biased machine learning model. To balance the dataset, either the undersampling or oversampling technique will be used but before then, missing values must be addressed and relevant attributes have to be selected.\n\nThe overall objective here is to build a classifier to predict the severity of an accident based on predictors like weather and road conditions, then select the best machine learning model using metrics like Jaccard Index and F1-Score."
        },
        {
            "cell_type": "code",
            "execution_count": null,
            "metadata": {},
            "outputs": [],
            "source": ""
        }
    ],
    "metadata": {
        "kernelspec": {
            "display_name": "Python 3.6",
            "language": "python",
            "name": "python3"
        },
        "language_info": {
            "codemirror_mode": {
                "name": "ipython",
                "version": 3
            },
            "file_extension": ".py",
            "mimetype": "text/x-python",
            "name": "python",
            "nbconvert_exporter": "python",
            "pygments_lexer": "ipython3",
            "version": "3.6.9"
        }
    },
    "nbformat": 4,
    "nbformat_minor": 1
}